{
 "cells": [
  {
   "cell_type": "code",
   "execution_count": null,
   "metadata": {},
   "outputs": [],
   "source": [
    "# Carregar bibliotecas\n",
    "from pyfirmata import Arduino, util\n",
    "\n",
    "import time\n",
    "import numpy as np\n",
    "import matplotlib.pyplot as plt\n"
   ]
  },
  {
   "cell_type": "code",
   "execution_count": null,
   "metadata": {},
   "outputs": [],
   "source": [
    "#%%\n",
    "board = Arduino('COM5')\n",
    "\n",
    "iterator = util.Iterator(board)\n",
    "iterator.start()\n",
    "\n",
    "# Entradas analógicas\n",
    "T_S1 = board.get_pin('a:0:i') # A0\n",
    "T_S2 = board.get_pin('a:1:i') # A1\n",
    "\n",
    "# Saídas PWM\n",
    "S1 = board.get_pin('d:10:p')  # Pino 10\n",
    "S2 = board.get_pin('d:9:p')   # Pino 9\n",
    "\n",
    "time.sleep(1)"
   ]
  },
  {
   "cell_type": "code",
   "execution_count": null,
   "metadata": {},
   "outputs": [],
   "source": []
  },
  {
   "cell_type": "code",
   "execution_count": null,
   "metadata": {},
   "outputs": [],
   "source": [
    "# SSE\n",
    "SSE = np.sum((y-ym)**2)"
   ]
  }
 ],
 "metadata": {
  "language_info": {
   "name": "python"
  }
 },
 "nbformat": 4,
 "nbformat_minor": 2
}
